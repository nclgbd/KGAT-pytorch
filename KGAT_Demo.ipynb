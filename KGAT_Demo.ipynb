{
 "cells": [
  {
   "cell_type": "markdown",
   "metadata": {},
   "source": [
    "# KGAT Demo\n",
    "Since the was no available online implementation of KGAT-SR, it was decided that I would instead publish KGAT, and demonstrate how to run the program within this notebook.\n",
    "\n",
    "This notebook will be laid out as follows:\n",
    "* Results for the `amazon-book` dataset\n",
    "* Results for the `last-fm` dataset\n",
    "* Results for the `yelp2018` dataset\n",
    "\n",
    "Luckily, the `README.md` was very informative on how to get the program to run properly, as well as listing any relevant dependencies. To get this program to run, I simply cloned the [GitHub repository](link_required), and created an Anaconda environment to use as a kernel. The required packages can likewise be seen in the `README.md` file [here](link_required)."
   ]
  },
  {
   "cell_type": "markdown",
   "metadata": {},
   "source": [
    "## Results for the `amazon-book` dataset"
   ]
  },
  {
   "cell_type": "code",
   "execution_count": null,
   "metadata": {},
   "outputs": [],
   "source": [
    "!python main_kgat.py --data_name amazon-book"
   ]
  },
  {
   "cell_type": "markdown",
   "metadata": {},
   "source": [
    "## Results for the `last-fm` dataset"
   ]
  },
  {
   "cell_type": "code",
   "execution_count": null,
   "metadata": {},
   "outputs": [],
   "source": [
    "!python main_kgat.py --data_name last-fm"
   ]
  },
  {
   "cell_type": "markdown",
   "metadata": {},
   "source": [
    "## Results for the `yelp2018` dataset"
   ]
  },
  {
   "cell_type": "code",
   "execution_count": null,
   "metadata": {},
   "outputs": [],
   "source": [
    "!python main_kgat.py --data_name yelp2018"
   ]
  }
 ],
 "metadata": {
  "interpreter": {
   "hash": "a09f7554e5508bb395e33a20493d32f5e8b82f6f416ec648b36f47376e8b1d85"
  },
  "kernelspec": {
   "display_name": "Python 3.7.13 ('kgat-pytorch')",
   "language": "python",
   "name": "python3"
  },
  "language_info": {
   "codemirror_mode": {
    "name": "ipython",
    "version": 3
   },
   "file_extension": ".py",
   "mimetype": "text/x-python",
   "name": "python",
   "nbconvert_exporter": "python",
   "pygments_lexer": "ipython3",
   "version": "3.7.13"
  },
  "orig_nbformat": 4
 },
 "nbformat": 4,
 "nbformat_minor": 2
}
